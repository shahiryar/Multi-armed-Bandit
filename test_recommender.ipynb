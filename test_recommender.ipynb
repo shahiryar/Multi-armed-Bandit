{
 "cells": [
  {
   "cell_type": "code",
   "execution_count": 7,
   "metadata": {},
   "outputs": [],
   "source": [
    "from recommender import Recommender"
   ]
  },
  {
   "cell_type": "code",
   "execution_count": 8,
   "metadata": {},
   "outputs": [],
   "source": [
    "#creating a recomender object\n",
    "rec = Recommender()"
   ]
  },
  {
   "cell_type": "code",
   "execution_count": 9,
   "metadata": {},
   "outputs": [
    {
     "data": {
      "text/plain": [
       "recommender.Recommender"
      ]
     },
     "execution_count": 9,
     "metadata": {},
     "output_type": "execute_result"
    }
   ],
   "source": [
    "type(rec)"
   ]
  },
  {
   "cell_type": "code",
   "execution_count": 11,
   "metadata": {},
   "outputs": [],
   "source": [
    "rec.add_item('apple')\n",
    "rec.update_preferences('0001', 'apple', 9)\n",
    "\n",
    "rec.add_item('apple pie')\n",
    "rec.update_preferences('0001', 'apple pie', 7)"
   ]
  },
  {
   "cell_type": "code",
   "execution_count": 16,
   "metadata": {},
   "outputs": [
    {
     "data": {
      "text/plain": [
       "[('apple pie', 16.0)]"
      ]
     },
     "execution_count": 16,
     "metadata": {},
     "output_type": "execute_result"
    }
   ],
   "source": [
    "rec.get_top_n_preferences('0001', 1)"
   ]
  },
  {
   "cell_type": "code",
   "execution_count": 31,
   "metadata": {},
   "outputs": [],
   "source": [
    "items_meanReward = {'milk shake': 4, 'romantic cocktail':7 , 'dragon fruit': 2, 'boiled eggs':7 , 'pancake':8 , 'mapple syrup':4}\n",
    "users = ['0001', '0002', '0003', '0004', '0005']"
   ]
  },
  {
   "cell_type": "code",
   "execution_count": 47,
   "metadata": {},
   "outputs": [],
   "source": [
    "import random as rand\n",
    "import numpy as np\n",
    "\n",
    "\n",
    "for i in range(1,100):\n",
    "\n",
    "    _user = rand.choice(users)\n",
    "    _item = rand.choice(list(items_meanReward.keys()))\n",
    "\n",
    "    rec.add_item(_item)\n",
    "    rec.update_preferences(_user, _item, np.random.normal(loc=items_meanReward[_item]))"
   ]
  },
  {
   "cell_type": "code",
   "execution_count": 48,
   "metadata": {},
   "outputs": [
    {
     "data": {
      "text/plain": [
       "[('romantic cocktail', 195211.99521663843),\n",
       " ('mapple syrup', 168786.45923433837),\n",
       " ('boiled eggs', 92635.14502475482)]"
      ]
     },
     "execution_count": 48,
     "metadata": {},
     "output_type": "execute_result"
    }
   ],
   "source": [
    "rec.get_top_n_preferences('0004', 3)"
   ]
  }
 ],
 "metadata": {
  "kernelspec": {
   "display_name": "Python 3",
   "language": "python",
   "name": "python3"
  },
  "language_info": {
   "codemirror_mode": {
    "name": "ipython",
    "version": 3
   },
   "file_extension": ".py",
   "mimetype": "text/x-python",
   "name": "python",
   "nbconvert_exporter": "python",
   "pygments_lexer": "ipython3",
   "version": "3.8.12"
  },
  "orig_nbformat": 4
 },
 "nbformat": 4,
 "nbformat_minor": 2
}
